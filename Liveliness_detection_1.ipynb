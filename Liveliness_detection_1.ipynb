{
  "nbformat": 4,
  "nbformat_minor": 0,
  "metadata": {
    "colab": {
      "name": "Liveliness_detection_1.ipynb",
      "provenance": [],
      "authorship_tag": "ABX9TyOjmq5OtZB9BuIOkfGUFzkG",
      "include_colab_link": true
    },
    "kernelspec": {
      "name": "python3",
      "display_name": "Python 3"
    }
  },
  "cells": [
    {
      "cell_type": "markdown",
      "metadata": {
        "id": "view-in-github",
        "colab_type": "text"
      },
      "source": [
        "<a href=\"https://colab.research.google.com/github/ritikraj660/Speaker-recognition/blob/master/Liveliness_detection_1.ipynb\" target=\"_parent\"><img src=\"https://colab.research.google.com/assets/colab-badge.svg\" alt=\"Open In Colab\"/></a>"
      ]
    },
    {
      "cell_type": "code",
      "metadata": {
        "id": "c2A_kNLfBCln",
        "colab_type": "code",
        "colab": {}
      },
      "source": [
        "from pydrive.auth import GoogleAuth\n",
        "from pydrive.drive import GoogleDrive\n",
        "from google.colab import auth\n",
        "from oauth2client.client import GoogleCredentials"
      ],
      "execution_count": 0,
      "outputs": []
    },
    {
      "cell_type": "code",
      "metadata": {
        "id": "UoZ_22nABJM9",
        "colab_type": "code",
        "colab": {}
      },
      "source": [
        "auth.authenticate_user()\n",
        "gauth = GoogleAuth()\n",
        "gauth.credentials = GoogleCredentials.get_application_default()\n",
        "drive = GoogleDrive(gauth)"
      ],
      "execution_count": 0,
      "outputs": []
    },
    {
      "cell_type": "code",
      "metadata": {
        "id": "cO9kbeMABLmR",
        "colab_type": "code",
        "colab": {
          "base_uri": "https://localhost:8080/",
          "height": 36
        },
        "outputId": "a6ee5111-2c71-4b00-d8ad-96503d995aa0"
      },
      "source": [
        "\n",
        "link = 'https://drive.google.com/file/d/12fAst4usbQKCMaR6Io8OPNwna2Ye8S-o/view?usp=sharing'\n",
        "#fluff, id = link.split('=')\n",
        "id = '12fAst4usbQKCMaR6Io8OPNwna2Ye8S-o'\n",
        "print (id) "
      ],
      "execution_count": 20,
      "outputs": [
        {
          "output_type": "stream",
          "text": [
            "12fAst4usbQKCMaR6Io8OPNwna2Ye8S-o\n"
          ],
          "name": "stdout"
        }
      ]
    },
    {
      "cell_type": "code",
      "metadata": {
        "id": "Qh5wm1NrBTsi",
        "colab_type": "code",
        "colab": {}
      },
      "source": [
        "downloaded = drive.CreateFile({'id':id}) \n",
        "downloaded.GetContentFile('liveliness.zip')  "
      ],
      "execution_count": 0,
      "outputs": []
    },
    {
      "cell_type": "code",
      "metadata": {
        "id": "GJBcCgo3BbMK",
        "colab_type": "code",
        "colab": {
          "base_uri": "https://localhost:8080/",
          "height": 203
        },
        "outputId": "c9fcb377-fdca-4f47-9e49-e74a4aa4e12b"
      },
      "source": [
        "%%time\n",
        "!pip install patool\n",
        "import patoolib\n",
        "patoolib.extract_archive(\"liveliness.zip\")"
      ],
      "execution_count": 22,
      "outputs": [
        {
          "output_type": "stream",
          "text": [
            "Collecting patool\n",
            "\u001b[?25l  Downloading https://files.pythonhosted.org/packages/43/94/52243ddff508780dd2d8110964320ab4851134a55ab102285b46e740f76a/patool-1.12-py2.py3-none-any.whl (77kB)\n",
            "\r\u001b[K     |████▎                           | 10kB 21.8MB/s eta 0:00:01\r\u001b[K     |████████▌                       | 20kB 6.1MB/s eta 0:00:01\r\u001b[K     |████████████▊                   | 30kB 5.9MB/s eta 0:00:01\r\u001b[K     |█████████████████               | 40kB 6.9MB/s eta 0:00:01\r\u001b[K     |█████████████████████▏          | 51kB 6.5MB/s eta 0:00:01\r\u001b[K     |█████████████████████████▍      | 61kB 7.0MB/s eta 0:00:01\r\u001b[K     |█████████████████████████████▋  | 71kB 7.8MB/s eta 0:00:01\r\u001b[K     |████████████████████████████████| 81kB 5.0MB/s \n",
            "\u001b[?25hInstalling collected packages: patool\n",
            "Successfully installed patool-1.12\n",
            "patool: Extracting liveliness.zip ...\n",
            "patool: running /usr/bin/7z x -o./Unpack_ybkndyr4 -- liveliness.zip\n",
            "patool: ... liveliness.zip extracted to `liveliness'.\n",
            "CPU times: user 29.2 ms, sys: 26.7 ms, total: 55.9 ms\n",
            "Wall time: 6.34 s\n"
          ],
          "name": "stdout"
        }
      ]
    },
    {
      "cell_type": "code",
      "metadata": {
        "id": "OV4U8Z6GQOlH",
        "colab_type": "code",
        "colab": {
          "base_uri": "https://localhost:8080/",
          "height": 147
        },
        "outputId": "8eb4b472-2ab9-46ca-ad68-080eabd3a5f8"
      },
      "source": [
        "!pip install spafe\n",
        "from spafe.features.mfcc import mfcc"
      ],
      "execution_count": 161,
      "outputs": [
        {
          "output_type": "stream",
          "text": [
            "Collecting spafe\n",
            "\u001b[?25l  Downloading https://files.pythonhosted.org/packages/a9/d9/d92807657a5125318639aa1636c0a76fb87222d48b5c290996ed9d5be1b6/spafe-0.1.2-py3-none-any.whl (77kB)\n",
            "\r\u001b[K     |████▎                           | 10kB 23.5MB/s eta 0:00:01\r\u001b[K     |████████▌                       | 20kB 6.3MB/s eta 0:00:01\r\u001b[K     |████████████▊                   | 30kB 8.8MB/s eta 0:00:01\r\u001b[K     |█████████████████               | 40kB 8.4MB/s eta 0:00:01\r\u001b[K     |█████████████████████▏          | 51kB 7.1MB/s eta 0:00:01\r\u001b[K     |█████████████████████████▍      | 61kB 8.1MB/s eta 0:00:01\r\u001b[K     |█████████████████████████████▋  | 71kB 8.4MB/s eta 0:00:01\r\u001b[K     |████████████████████████████████| 81kB 5.4MB/s \n",
            "\u001b[?25hRequirement already satisfied: scipy>=1.3.1 in /usr/local/lib/python3.6/dist-packages (from spafe) (1.4.1)\n",
            "Requirement already satisfied: numpy>=1.17.2 in /usr/local/lib/python3.6/dist-packages (from spafe) (1.18.5)\n",
            "Installing collected packages: spafe\n",
            "Successfully installed spafe-0.1.2\n"
          ],
          "name": "stdout"
        }
      ]
    },
    {
      "cell_type": "code",
      "metadata": {
        "id": "ySJ3rJBcyyav",
        "colab_type": "code",
        "colab": {}
      },
      "source": [
        "!pip install soundfile"
      ],
      "execution_count": 0,
      "outputs": []
    },
    {
      "cell_type": "code",
      "metadata": {
        "id": "idkDF-ldyA7j",
        "colab_type": "code",
        "colab": {}
      },
      "source": [
        "import librosa\n",
        "import soundfile\n",
        "import tqdm\n",
        "from scipy.io import wavfile\n",
        "import glob\n",
        "import os,pickle\n",
        "import numpy as np\n",
        "from sklearn.model_selection import train_test_split\n",
        "import matplotlib.pyplot as plt\n",
        "import soundfile as sf\n",
        "import scipy\n",
        "from pathlib import Path\n",
        "import tensorflow.python.keras\n",
        "from tensorflow.python.keras.models import Sequential\n",
        "from tensorflow.python.keras.layers import Dense, Dropout, Flatten, BatchNormalization\n",
        "from keras.optimizers import SGD"
      ],
      "execution_count": 0,
      "outputs": []
    },
    {
      "cell_type": "code",
      "metadata": {
        "id": "7P8v-4ClQE93",
        "colab_type": "code",
        "colab": {}
      },
      "source": [
        "from spafe.features.gfcc import gfcc\n",
        "\n",
        "def mfcc_(sig,fs):\n",
        "    mfccs  = mfcc(sig, fs=fs, num_ceps=20, pre_emph=1, pre_emph_coeff=0.95, \n",
        "              win_len=0.025, win_hop=0.0025, win_type='hamming', nfilts=26, \n",
        "              nfft=512, low_freq=14500, high_freq=15500, scale='constant', \n",
        "              dct_type=2, use_energy=True, lifter=22)\n",
        "    #print(fs)\n",
        "    return mfccs"
      ],
      "execution_count": 0,
      "outputs": []
    },
    {
      "cell_type": "code",
      "metadata": {
        "id": "6RKRq9YXP7N8",
        "colab_type": "code",
        "colab": {}
      },
      "source": [
        "def norm_(x,mean = False):\n",
        "    if mean == True:\n",
        "        return (x - np.mean(x)) / (np.max(x) - np.min(x)) #normalization                             \n",
        "    else:\n",
        "        return (x-np.mean(x)/np.std(x)) #standardization\n",
        "\n",
        "def zero_handling(x):\n",
        "    \"\"\"\n",
        "    handle the issue with zero values if they are exposed to become an argument\n",
        "    for any log function.\n",
        "\n",
        "    Returns:\n",
        "        vector with zeros substituted with epsilon values.\n",
        "    \"\"\"\n",
        "    return np.where(x == float(0), np.finfo(float).eps, x)"
      ],
      "execution_count": 0,
      "outputs": []
    },
    {
      "cell_type": "code",
      "metadata": {
        "id": "EYW3RaNHyl-1",
        "colab_type": "code",
        "colab": {}
      },
      "source": [
        "def audioLengthInSecond(sr,m,t_s):#t_s will gives time in second[1 for 1sec, 2 for 2sec]\n",
        "    t = round(sr/512) # Number of frames in one second\n",
        "    totalFrame = round(t*t_s) # Number of frames in one second * time(second)\n",
        "    t1 = round(m.shape[0]/totalFrame) # total_audio_time/ t_s\n",
        "    #print(time_in_sec)\n",
        "    #print(\" Actual audio length in second :\",t1,\"\\n\",\"Number of frames in one second :\",t)\n",
        "    j=0\n",
        "    #print(totalFrame)\n",
        "    total = totalFrame*m.shape[1]\n",
        "    #print(m.shape)\n",
        "    result = np.zeros([1,total])\n",
        "    #print(total)\n",
        "    #print(result.shape)\n",
        "    for i in range(t1):\n",
        "            temp = m[j:j+totalFrame,:].reshape(1,-1)\n",
        "            diff = total-temp.shape[1]\n",
        "            if round(total*0.3)>diff: # if more 30% padding need done then we will not add that audio file\n",
        "                #print(diff)\n",
        "                if diff!=0:\n",
        "                    temp = np.concatenate((temp[0,:],temp[0,diff:diff+diff])).reshape(1,-1)\n",
        "                #print(\"temp\",temp.shape)\n",
        "                result = np.concatenate((result,temp))\n",
        "                j += totalFrame\n",
        "            else:\n",
        "                pass\n",
        "    return result[1:,:]\n",
        "#t_s=0.5\n",
        "#r = audioLengthInSecond(sr,contrast,t_s)\n",
        "#print(r.shape)"
      ],
      "execution_count": 0,
      "outputs": []
    },
    {
      "cell_type": "code",
      "metadata": {
        "id": "Um3KDwDwymsa",
        "colab_type": "code",
        "colab": {}
      },
      "source": [
        "def label(user,total): # its creating lable for splited audio data\n",
        "    k_train = []\n",
        "    for i in range(total):\n",
        "        k_train.append(user)\n",
        "    y_train=np.array(k_train).T\n\n",
        "    return y_train"
      ],
      "execution_count": 0,
      "outputs": []
    },
    {
      "cell_type": "code",
      "metadata": {
        "id": "rvIF-nkJSUdi",
        "colab_type": "code",
        "colab": {}
      },
      "source": [
        "from pathlib import Path\n",
        "def s2c():\n",
        "    x,y=[],[]\n",
        "    t_s = 1\n",
        "    t = round(48000/512)\n",
        "    totalFrame = round(t*t_s)\n",
        "    total = totalFrame*20   \n",
        "    data = np.empty([1,total])\n",
        "    data_label = np.asarray([])\n",
        "    count =0  # E:\\dataset\\LibriSpeech\\dev-clean\n",
        "    for file in Path('liveliness').glob('*.wav'):\n",
        "        file_name=os.path.basename(file)\n",
        "        user = file_name[0]\n",
        "        #print(f)\n",
        "      \n",
        "        with soundfile.SoundFile(file) as sound_file:\n",
        "                signal = sound_file.read(dtype=\"float32\")\n",
        "                sr=sound_file.samplerate\n",
        "        signal = norm_(signal,mean = False)\n",
        "        signal = zero_handling(signal)\n",
        " \n",
        "        feature = mfcc_(signal,sr)\n",
        "              #print(feature.shape[0])\n",
        "        re_data = audioLengthInSecond(sr,feature,t_s) # return (3,400)\n",
        "        #print(\"shape of feature return \",re_data.shape)\n",
        "        data=np.concatenate((data,re_data),axis=0)\n",
        "        #print(\"Updated data length\",data.shape)\n",
        "        re_label = label(user,re_data.shape[0])\n",
        "        data_label = np.concatenate((data_label,re_label),axis=0)\n",
        "    return data[1:,:],data_label"
      ],
      "execution_count": 0,
      "outputs": []
    },
    {
      "cell_type": "code",
      "metadata": {
        "id": "tPX2mC1ty2mq",
        "colab_type": "code",
        "colab": {}
      },
      "source": [
        "def load_data1():\n",
        "    #x,y=[],[]   #C:\\Users\\RITIK_RAJ\\Music\\liveliness\\*.wav\n",
        "    #for file in glob.glob(\"C:\\\\Users\\\\RITIK_RAJ\\\\Music\\\\liveliness//*\\\\*.wav\"):   \n",
        "    print(\"Entered into pre-processing step\")\n",
        "    data = np.empty([1,329])  #658, #329\n",
        "    data_label = np.asarray([])\n",
        "    for file in Path('liveliness').glob('*.wav'):\n",
        "        file_name=os.path.basename(file)\n",
        "        #print(\"user_name\", file_name[0])\n",
        "        user = file_name[0]\n",
        "        with soundfile.SoundFile(file) as sound_file:\n",
        "            X = sound_file.read(dtype=\"float32\")\n",
        "            sample_rate=sound_file.samplerate\n",
        "        #print(\"Length of Audio = \",X.shape,\" Sampling Rate = \",sample_rate)\n",
        "        X = norm_(X,mean = False)\n",
        "        X = zero_handling(X)\n",
        "        psi = scipy.signal.butter(4, [14500, 15500], btype='bandpass', output='sos', fs=sample_rate)\n",
        "        # filter audio\n",
        "        y_filtered = scipy.signal.sosfilt(psi, X)\n",
        "        #print(\"Butter_worth_filter\",y_filtered.shape)\n",
        "        S = np.abs(librosa.stft(y_filtered, hop_length= 256, win_length =1024 ))\n",
        "        #print(\"STFT shape = \",S.shape)\n",
        "        contrast = librosa.feature.spectral_contrast(S=S, sr=sample_rate).T\n",
        "        #print(\"Feature extraction \",contrast.shape)\n",
        "        r = audioLengthInSecond(sample_rate,contrast,t_s=0.5)\n",
        "        #print(r.shape)\n",
        "        data=np.concatenate((data,r),axis=0)\n",
        "        re_label = label(user,r.shape[0])\n",
        "        data_label = np.concatenate((data_label,re_label),axis=0)\n",
        "    print(\"Exiting Pre-processing step\")    \n",
        "    return data[1:,:],data_label"
      ],
      "execution_count": 0,
      "outputs": []
    },
    {
      "cell_type": "code",
      "metadata": {
        "id": "LwOkUuliy5GU",
        "colab_type": "code",
        "colab": {}
      },
      "source": [
        "#x,y = load_data()\n",
        "#print(x.shape,y.shape)"
      ],
      "execution_count": 0,
      "outputs": []
    },
    {
      "cell_type": "code",
      "metadata": {
        "id": "K53ADQdry82j",
        "colab_type": "code",
        "colab": {}
      },
      "source": [
        "def data_split():\n",
        "  #X  = x.reshape(x.shape[0],x.shape[1],x.shape[2],1)\n",
        "  x,y = s2c()#load_data()\n",
        "  u = np.unique(y)\n",
        "  num_cla = len(u)\n",
        "  #print(u)\n",
        "  d = dict()\n",
        "  for enu,key in enumerate(u,0):\n",
        "      d[key]=enu\n",
        "  #print(d)\n",
        "  for i in range(len(y)):\n",
        "      y[i] = d[y[i]]  \n",
        "  print(x.shape,y.shape)\n",
        "  print(\"Shape of Input data \",x.shape)\n",
        "  import keras\n",
        "\n",
        "  y_binary = keras.utils.to_categorical(y, num_classes = num_cla)\n",
        "  #y_binary = np.asarray(list(map(int,y)))\n",
        "  #print(y_binary)\n",
        "\n",
        "  x_train, x_test, y_train, y_test = train_test_split(x,y_binary ,test_size=0.20, shuffle= True)\n",
        "\n",
        "  print(\"Training shape: {0}, Training label shape : {1}\".format(x_train.shape,y_train.shape))\n",
        "  print(\"Training shape: {0}, Training label shape : {1}\".format(x_test.shape,y_test.shape))\n",
        "  return  x_train, x_test, y_train, y_test"
      ],
      "execution_count": 0,
      "outputs": []
    },
    {
      "cell_type": "code",
      "metadata": {
        "id": "okgD0oTfzalI",
        "colab_type": "code",
        "colab": {}
      },
      "source": [
        "import keras\n",
        "from matplotlib import pyplot as plt\n",
        "def accuracy_plot(history):\n",
        "    plt.figure(figsize=(15,8))\n",
        "    plt.plot(history.history['accuracy'])\n",
        "    plt.plot(history.history['val_accuracy'])\n",
        "    plt.title('model accuracy')\n",
        "    plt.ylabel('accuracy')\n",
        "    plt.xlabel('epoch')\n",
        "    plt.legend(['train', 'val'], loc='upper left')\n",
        "    plt.grid()\n",
        "    plt.show()\n",
        "\n",
        "def loss_plot(history):\n",
        "    plt.figure(figsize=(15,8))\n",
        "    plt.plot(history.history['loss'])\n",
        "    plt.plot(history.history['val_loss'])\n",
        "    plt.title('model loss')\n",
        "    plt.ylabel('loss')\n",
        "    plt.xlabel('epoch')\n",
        "    plt.legend(['train', 'val'], loc='upper left')\n",
        "    plt.grid()\n",
        "    plt.show()"
      ],
      "execution_count": 0,
      "outputs": []
    },
    {
      "cell_type": "code",
      "metadata": {
        "id": "c2E5DuSFzdbx",
        "colab_type": "code",
        "colab": {}
      },
      "source": [
        "from tensorflow.keras.optimizers import SGD\n",
        "from tensorflow.python.keras.callbacks import ModelCheckpoint\n",
        "def model_(x,outputsize):\n",
        "  model = Sequential()\n",
        "  model.add(Dense(64, input_shape=(x.shape[1],), activation='relu'))\n",
        "  model.add(Dropout(0.5))\n",
        "  model.add(Dense(64, activation='relu'))\n",
        "  model.add(Dropout(0.5))\n",
        "  model.add(Dense(64, activation='relu'))\n",
        "  model.add(Dropout(0.5))\n",
        "  model.add(Dense(outputsize, activation='softmax'))\n",
        "  #print(model.summary())\n",
        "  opt = SGD(lr=0.001, momentum=0.9)                        #optimizer=keras.optimizers.Adam()\n",
        "  #opt =Adam(learning_rate=0.001)\n",
        "  model.compile(loss=keras.losses.categorical_crossentropy, optimizer=opt, metrics=['accuracy'])\n",
        "  #tensorflow.keras.utils.plot_model(model, to_file='model.png', show_shapes=False, show_layer_names=True,\n",
        "  #                         rankdir='TB', expand_nested=False, dpi=96)\n",
        "  print(model.summary())\n",
        "  return model\n",
        "  "
      ],
      "execution_count": 0,
      "outputs": []
    },
    {
      "cell_type": "code",
      "metadata": {
        "id": "Oa--_AGk0MU8",
        "colab_type": "code",
        "colab": {}
      },
      "source": [
        "from sklearn.metrics import confusion_matrix\n",
        "import matplotlib.pyplot as plt\n",
        "import pandas.util.testing as tm\n",
        "import seaborn as sns\n",
        "import numpy as np\n",
        "def conf(y_test,yhat):\n",
        "  y_test = np.argmax(y_test, axis=1)\n",
        "  total_user = ['Live','Replay']\n",
        "  #total_user = [0,1]\n",
        "  conf_mat = confusion_matrix(y_test, yhat)\n",
        "  fig, ax = plt.subplots(figsize=(10,10))\n",
        "  sns.heatmap(conf_mat, cmap=\"YlGnBu\",annot=True, fmt='d',\n",
        "              xticklabels=total_user, yticklabels=total_user)\n",
        "  plt.ylabel('Actual')\n",
        "  plt.xlabel('Predicted')\n",
        "  plt.show()"
      ],
      "execution_count": 0,
      "outputs": []
    },
    {
      "cell_type": "code",
      "metadata": {
        "id": "rZjmuYAgBAaH",
        "colab_type": "code",
        "colab": {}
      },
      "source": [
        ""
      ],
      "execution_count": 0,
      "outputs": []
    },
    {
      "cell_type": "code",
      "metadata": {
        "id": "lY2Tqsn70ek3",
        "colab_type": "code",
        "colab": {}
      },
      "source": [
        "def training(model,x_train, x_test, y_train, y_test,epoch = 300,batch_sizes = 16):\n",
        "  # Saving the model that performed the best on the validation set\n",
        "  checkpoint = ModelCheckpoint(filepath='Model.v_2.hdf5', save_best_only=True, verbose=0)\n",
        "\n",
        "  #validation_split=0.2\n",
        "\n",
        "  #history = model.fit(x_train, y_train, batch_size = batch_sizes, epochs=epoch, \n",
        "  #                    validation_data=(x_test, y_test), verbose=0, callbacks=[checkpoint])\n",
        "  history = model.fit(x_train, y_train, batch_size = batch_sizes, epochs=epoch, \n",
        "                      validation_split=0.2, verbose=0, callbacks=[checkpoint])\n",
        "  #Loading the model that performed the best on the validation set\n",
        "  model.load_weights('Model.v_2.hdf5')\n",
        "\n",
        "  # Testing the model on the Test data\n",
        "  (loss, accuracy) = model.evaluate(x_test, y_test, batch_size=8, verbose=1)\n",
        "\n",
        "  yhat = np.argmax(model.predict(x_test), axis=-1)\n",
        "  conf(y_test,yhat)\n",
        "  accuracy_plot(history)\n",
        "  loss_plot(history)\n",
        "  print('Accuracy on test data: {:.2f}%'.format(accuracy * 100))\n",
        "  print('Loss on test data: {:.2f}%'.format(loss*100))\n",
        "  return [accuracy*100,loss*100]"
      ],
      "execution_count": 0,
      "outputs": []
    },
    {
      "cell_type": "code",
      "metadata": {
        "id": "X3dMrevE0nQr",
        "colab_type": "code",
        "colab": {
          "base_uri": "https://localhost:8080/",
          "height": 54
        },
        "outputId": "9f94b2ab-7e54-4d57-c016-540328a03a1e"
      },
      "source": [
        "%%time\n",
        "class speaker:\n",
        "\n",
        "  def __init__(self,epoch,batch_sizes):\n",
        "    self.epoch = epoch\n",
        "    self.batch_sizes = batch_sizes\n",
        "    self.run()\n",
        "\n",
        "\n",
        "  def run(self):\n",
        "    x_train, x_test, y_train, y_test = data_split()\n",
        "    print(\"Entering making model\")\n",
        "    model = model_(x_train,2)\n",
        "    print(\"Enteres training phase\")\n",
        "    #l.append(training(model, x_train, x_test, y_train, y_test,self.epoch, self.batch_sizes))\n",
        "    training(model, x_train, x_test, y_train, y_test,self.epoch, self.batch_sizes)\n",
        "    #print(\"Accuracy of model {}, Loss of model {}\".format(l[0],l[1]))\n"
      ],
      "execution_count": 302,
      "outputs": [
        {
          "output_type": "stream",
          "text": [
            "CPU times: user 35 µs, sys: 3 µs, total: 38 µs\n",
            "Wall time: 42.7 µs\n"
          ],
          "name": "stdout"
        }
      ]
    },
    {
      "cell_type": "code",
      "metadata": {
        "id": "j8-EPHAJ0rdH",
        "colab_type": "code",
        "colab": {
          "base_uri": "https://localhost:8080/",
          "height": 1000
        },
        "outputId": "c109ee1e-5435-44e8-c0e4-f5f386802bde"
      },
      "source": [
        "%%time\n",
        "speaker(epoch = 100, batch_sizes = 16)"
      ],
      "execution_count": 304,
      "outputs": [
        {
          "output_type": "stream",
          "text": [
            "(5957, 1880) (5957,)\n",
            "Shape of Input data  (5957, 1880)\n",
            "Training shape: (4765, 1880), Training label shape : (4765, 2)\n",
            "Training shape: (1192, 1880), Training label shape : (1192, 2)\n",
            "Entering making model\n",
            "Model: \"sequential_26\"\n",
            "_________________________________________________________________\n",
            "Layer (type)                 Output Shape              Param #   \n",
            "=================================================================\n",
            "dense_104 (Dense)            (None, 64)                120384    \n",
            "_________________________________________________________________\n",
            "dropout_54 (Dropout)         (None, 64)                0         \n",
            "_________________________________________________________________\n",
            "dense_105 (Dense)            (None, 64)                4160      \n",
            "_________________________________________________________________\n",
            "dropout_55 (Dropout)         (None, 64)                0         \n",
            "_________________________________________________________________\n",
            "dense_106 (Dense)            (None, 64)                4160      \n",
            "_________________________________________________________________\n",
            "dropout_56 (Dropout)         (None, 64)                0         \n",
            "_________________________________________________________________\n",
            "dense_107 (Dense)            (None, 2)                 130       \n",
            "=================================================================\n",
            "Total params: 128,834\n",
            "Trainable params: 128,834\n",
            "Non-trainable params: 0\n",
            "_________________________________________________________________\n",
            "None\n",
            "Enteres training phase\n",
            "149/149 [==============================] - 0s 1ms/step - loss: 0.4959 - accuracy: 0.7659\n"
          ],
          "name": "stdout"
        },
        {
          "output_type": "display_data",
          "data": {
            "image/png": "[encoded data removed]",
            "text/plain": [
              "<Figure size 720x720 with 2 Axes>"
            ]
          },
          "metadata": {
            "tags": [],
            "needs_background": "light"
          }
        },
        {
          "output_type": "display_data",
          "data": {
            "image/png": "[encoded data removed]",
            "text/plain": [
              "<Figure size 1080x576 with 1 Axes>"
            ]
          },
          "metadata": {
            "tags": [],
            "needs_background": "light"
          }
        },
        {
          "output_type": "display_data",
          "data": {
            "image/png": "[encoded data removed]",
            "text/plain": [
              "<Figure size 1080x576 with 1 Axes>"
            ]
          },
          "metadata": {
            "tags": [],
            "needs_background": "light"
          }
        },
        {
          "output_type": "stream",
          "text": [
            "Accuracy on test data: 76.59%\n",
            "Loss on test data: 49.59%\n",
            "CPU times: user 1min 21s, sys: 7.1 s, total: 1min 28s\n",
            "Wall time: 1min 3s\n"
          ],
          "name": "stdout"
        },
        {
          "output_type": "execute_result",
          "data": {
            "text/plain": [
              "<__main__.speaker at 0x7fdc4f0db438>"
            ]
          },
          "metadata": {
            "tags": []
          },
          "execution_count": 304
        }
      ]
    },
    {
      "cell_type": "code",
      "metadata": {
        "id": "KYl4L3cP1m-9",
        "colab_type": "code",
        "colab": {}
      },
      "source": [
        ""
      ],
      "execution_count": 0,
      "outputs": []
    }
  ]
}
